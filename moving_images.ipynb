{
 "cells": [
  {
   "cell_type": "markdown",
   "id": "85c3cc2c",
   "metadata": {},
   "source": [
    "# Moving images"
   ]
  },
  {
   "cell_type": "code",
   "execution_count": null,
   "id": "e811398f",
   "metadata": {},
   "outputs": [],
   "source": [
    "import numpy as np\n",
    "import matplotlib.pyplot as plt"
   ]
  },
  {
   "cell_type": "markdown",
   "id": "cd1e0cf8",
   "metadata": {},
   "source": [
    "Here's a plane of data, in fact plane 160 from our familiar\n",
    "`ds114_sub009_highres.nii` structural image:"
   ]
  },
  {
   "cell_type": "code",
   "execution_count": null,
   "id": "05e0160a",
   "metadata": {},
   "outputs": [],
   "source": [
    "original_slice = np.loadtxt('original_slice.txt')\n",
    "plt.imshow(original_slice, cmap='gray')"
   ]
  },
  {
   "cell_type": "markdown",
   "id": "015ed29d",
   "metadata": {},
   "source": [
    "Here is a copy of this image that we made.\n",
    "\n",
    "Specifically, we made it by shifting the image 29 rows down and back 5 columns."
   ]
  },
  {
   "cell_type": "code",
   "execution_count": null,
   "id": "b47697c3",
   "metadata": {},
   "outputs": [],
   "source": [
    "moved_slice = np.loadtxt('moved_slice.txt')\n",
    "plt.imshow(moved_slice, cmap='gray')"
   ]
  },
  {
   "cell_type": "markdown",
   "id": "4720b8be",
   "metadata": {},
   "source": [
    "The slices are, of course, 2D, and have shape:"
   ]
  },
  {
   "cell_type": "code",
   "execution_count": null,
   "id": "1e3d3afe",
   "metadata": {},
   "outputs": [],
   "source": [
    "slice_shape = original_slice.shape\n",
    "slice_shape"
   ]
  },
  {
   "cell_type": "markdown",
   "id": "ef6e1f68",
   "metadata": {},
   "source": [
    "Your job is to *undo* the shift we applied to `moved_slice`, without reference to `original_slice`.\n",
    "\n",
    "Here is a new array for you to start with, full of zeros."
   ]
  },
  {
   "cell_type": "code",
   "execution_count": null,
   "id": "e6b441e9",
   "metadata": {},
   "outputs": [],
   "source": [
    "unmoved_slice = np.zeros(original_slice.shape)"
   ]
  },
  {
   "cell_type": "markdown",
   "id": "c29a3de6",
   "metadata": {},
   "source": [
    "Now, fill in the values in `unmoved_slice` by taking the corresponding values in `moved_slice`.  By *corresponding* we mean the values in positions corresponding to `original_slice`.\n",
    "\n",
    "**STOP**.  Before you go any further, get a piece of paper, and work out what\n",
    "you are trying to do.  If you don't do this, it is very easy to get confused,\n",
    "when you are writing the code.  Consider that we have some *output* coordinates\n",
    "in terms of row and column and then *input* coordinates, that are the output\n",
    "coordinates transformed to match the positions in the `moved_slice` for which\n",
    "we want to get the data."
   ]
  },
  {
   "cell_type": "code",
   "execution_count": null,
   "id": "91e7c5f1",
   "metadata": {},
   "outputs": [],
   "source": [
    "#- Fill in the values in unmoved_slice so it is as close as possible\n",
    "#- to original_slice\n",
    "# Refresh the new (output) image with zeros.\n",
    "unmoved_slice = np.zeros(original_slice.shape)\n",
    "for output_row in range(slice_shape[0]):\n",
    "    for output_col in range(slice_shape[1]):\n",
    "        ...\n",
    "        ...\n",
    "# Show the result\n",
    "plt.imshow(unmoved_slice, cmap='gray')"
   ]
  },
  {
   "cell_type": "code",
   "execution_count": null,
   "id": "da328566",
   "metadata": {},
   "outputs": [],
   "source": [
    "# When you have this right, there will be small differences between\n",
    "# the unmoved_slice and the original_slice\n",
    "assert np.mean(np.abs(unmoved_slice - original_slice)) < 1.5\n",
    "np.mean(np.abs(unmoved_slice - original_slice))\n",
    "# Did you deal correctly with negative coordinates in the moving image above?\n",
    "# Remember what it means if you use negative numbers as indices\n",
    "# into an array.\n",
    "assert np.all(unmoved_slice[:, :5] == 0)"
   ]
  },
  {
   "cell_type": "markdown",
   "id": "cfb1a9a9",
   "metadata": {},
   "source": [
    "Now to shift up the difficulty a little bit.\n",
    "\n",
    "Here is another moved image."
   ]
  },
  {
   "cell_type": "code",
   "execution_count": null,
   "id": "9daaa7fb",
   "metadata": {},
   "outputs": [],
   "source": [
    "moved_slice2 = np.loadtxt('moved_slice2.txt')\n",
    "plt.imshow(moved_slice2, cmap='gray')"
   ]
  },
  {
   "cell_type": "markdown",
   "id": "de479f0f",
   "metadata": {},
   "source": [
    "For extra points, see if you can work out what shifts we applied to that image."
   ]
  },
  {
   "cell_type": "code",
   "execution_count": null,
   "id": "f94dc3f7",
   "metadata": {},
   "outputs": [],
   "source": [
    "unmoved_slice2 = np.zeros(original_slice.shape)"
   ]
  },
  {
   "cell_type": "code",
   "execution_count": null,
   "id": "42948105",
   "metadata": {
    "lines_to_next_cell": 0
   },
   "outputs": [],
   "source": [
    "#- Your solution here!"
   ]
  },
  {
   "cell_type": "markdown",
   "id": "70e6a041",
   "metadata": {},
   "source": [
    "If you want to know if you found the right answer, have a look at the `./make_moved.py` script in the same directory as this notebook."
   ]
  }
 ],
 "metadata": {
  "jupytext": {
   "notebook_metadata_filter": "all,-language_info",
   "split_at_heading": true,
   "text_representation": {
    "extension": ".Rmd",
    "format_name": "rmarkdown",
    "format_version": "1.2",
    "jupytext_version": "1.10.3"
   }
  },
  "kernelspec": {
   "display_name": "Python 3",
   "language": "python",
   "name": "python3"
  }
 },
 "nbformat": 4,
 "nbformat_minor": 5
}
