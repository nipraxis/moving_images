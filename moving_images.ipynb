{
 "cells": [
  {
   "cell_type": "markdown",
   "id": "72e4fc9e",
   "metadata": {},
   "source": [
    "# Moving images"
   ]
  },
  {
   "cell_type": "code",
   "execution_count": null,
   "id": "6a986bd9",
   "metadata": {},
   "outputs": [],
   "source": [
    "import numpy as np\n",
    "import matplotlib.pyplot as plt"
   ]
  },
  {
   "cell_type": "markdown",
   "id": "cda63d88",
   "metadata": {},
   "source": [
    "Here's a plane of data, in fact plane 160 from our familiar\n",
    "`ds114_sub009_highres.nii` structural image:"
   ]
  },
  {
   "cell_type": "code",
   "execution_count": null,
   "id": "8a5bc352",
   "metadata": {},
   "outputs": [],
   "source": [
    "original_slice = np.loadtxt('original_slice.txt')\n",
    "plt.imshow(original_slice, cmap='gray')"
   ]
  },
  {
   "cell_type": "markdown",
   "id": "ee0e22e1",
   "metadata": {},
   "source": [
    "Here is a copy of this image that we made (see `./make_moved.py` in this directory).\n",
    "\n",
    "Specifically, we made it by shifting the image 29 rows down and back 5 columns."
   ]
  },
  {
   "cell_type": "code",
   "execution_count": null,
   "id": "1e577f38",
   "metadata": {},
   "outputs": [],
   "source": [
    "moved_slice = np.loadtxt('moved_slice.txt')\n",
    "plt.imshow(moved_slice, cmap='gray')"
   ]
  },
  {
   "cell_type": "markdown",
   "id": "45ba786f",
   "metadata": {},
   "source": [
    "The slices are, of course, 2D, and have shape:"
   ]
  },
  {
   "cell_type": "code",
   "execution_count": null,
   "id": "6f525061",
   "metadata": {},
   "outputs": [],
   "source": [
    "slice_shape = original_slice.shape\n",
    "slice_shape"
   ]
  },
  {
   "cell_type": "markdown",
   "id": "7492822d",
   "metadata": {},
   "source": [
    "Your job is to *undo* the shift we applied to `moved_slice`, without reference to `original_slice`.\n",
    "\n",
    "Here is a new array for you to start with, full of zeros."
   ]
  },
  {
   "cell_type": "code",
   "execution_count": null,
   "id": "944b62be",
   "metadata": {},
   "outputs": [],
   "source": [
    "unmoved_slice = np.zeros(original_slice.shape)"
   ]
  },
  {
   "cell_type": "markdown",
   "id": "f79795fe",
   "metadata": {},
   "source": [
    "Now, fill in the values in `unmoved_slice` by taking the corresponding values in `moved_slice`.  By *corresponding* we mean the values in positions corresponding to `original_slice`."
   ]
  },
  {
   "cell_type": "code",
   "execution_count": null,
   "id": "6df18a18",
   "metadata": {},
   "outputs": [],
   "source": [
    "#- Fill in the values in unmoved_slice so it is as close as possible\n",
    "#- to original_slice\n",
    "for row in range(slice_shape[0]):\n",
    "    for col in range(slice_shape[1]):\n",
    "       ...\n",
    "       ...\n",
    "# Show the result\n",
    "plt.imshow(unmoved_slice, cmap='gray')"
   ]
  },
  {
   "cell_type": "code",
   "execution_count": null,
   "id": "a7f6c5e3",
   "metadata": {},
   "outputs": [],
   "source": [
    "# When you have this right, there will be small differences between\n",
    "# the unmoved_slice and the original_slice\n",
    "assert np.mean(np.abs(unmoved_slice - original_slice)) < 1.5"
   ]
  }
 ],
 "metadata": {
  "jupytext": {
   "notebook_metadata_filter": "all,-language_info",
   "split_at_heading": true,
   "text_representation": {
    "extension": ".Rmd",
    "format_name": "rmarkdown",
    "format_version": "1.2",
    "jupytext_version": "1.10.3"
   }
  },
  "kernelspec": {
   "display_name": "Python 3",
   "language": "python",
   "name": "python3"
  }
 },
 "nbformat": 4,
 "nbformat_minor": 5
}
