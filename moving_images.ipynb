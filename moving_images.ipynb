{
 "cells": [
  {
   "cell_type": "markdown",
   "id": "da0f4790",
   "metadata": {},
   "source": [
    "# Moving images"
   ]
  },
  {
   "cell_type": "code",
   "execution_count": null,
   "id": "8b4db9b5",
   "metadata": {},
   "outputs": [],
   "source": [
    "import numpy as np\n",
    "import matplotlib.pyplot as plt"
   ]
  },
  {
   "cell_type": "markdown",
   "id": "be3ae83f",
   "metadata": {},
   "source": [
    "Here's a plane of data, in fact plane 160 from our familiar\n",
    "`ds114_sub009_highres.nii` structural image:"
   ]
  },
  {
   "cell_type": "code",
   "execution_count": null,
   "id": "0fbb4897",
   "metadata": {},
   "outputs": [],
   "source": [
    "original_slice = np.loadtxt('original_slice.txt')\n",
    "plt.imshow(original_slice, cmap='gray')"
   ]
  },
  {
   "cell_type": "markdown",
   "id": "07e8c7a0",
   "metadata": {},
   "source": [
    "Here is a copy of this image that we made.\n",
    "\n",
    "Specifically, we made it by shifting the image 29 rows down and back 5 columns."
   ]
  },
  {
   "cell_type": "code",
   "execution_count": null,
   "id": "281dcb30",
   "metadata": {},
   "outputs": [],
   "source": [
    "moved_slice = np.loadtxt('moved_slice.txt')\n",
    "plt.imshow(moved_slice, cmap='gray')"
   ]
  },
  {
   "cell_type": "markdown",
   "id": "e1c5c156",
   "metadata": {},
   "source": [
    "The slices are, of course, 2D, and have shape:"
   ]
  },
  {
   "cell_type": "code",
   "execution_count": null,
   "id": "ecfb3e2b",
   "metadata": {},
   "outputs": [],
   "source": [
    "slice_shape = original_slice.shape\n",
    "slice_shape"
   ]
  },
  {
   "cell_type": "markdown",
   "id": "b1f07d02",
   "metadata": {},
   "source": [
    "Your job is to *undo* the shift we applied to `moved_slice`, without reference to `original_slice`.\n",
    "\n",
    "Here is a new array for you to start with, full of zeros."
   ]
  },
  {
   "cell_type": "code",
   "execution_count": null,
   "id": "0a0a66c2",
   "metadata": {},
   "outputs": [],
   "source": [
    "unmoved_slice = np.zeros(original_slice.shape)"
   ]
  },
  {
   "cell_type": "markdown",
   "id": "0cc33ddc",
   "metadata": {},
   "source": [
    "Now, fill in the values in `unmoved_slice` by taking the corresponding values in `moved_slice`.  By *corresponding* we mean the values in positions corresponding to `original_slice`."
   ]
  },
  {
   "cell_type": "code",
   "execution_count": null,
   "id": "dc2be854",
   "metadata": {},
   "outputs": [],
   "source": [
    "#- Fill in the values in unmoved_slice so it is as close as possible\n",
    "#- to original_slice\n",
    "for row in range(slice_shape[0]):\n",
    "    for col in range(slice_shape[1]):\n",
    "        ...\n",
    "        ...\n",
    "# Show the result\n",
    "plt.imshow(unmoved_slice, cmap='gray')"
   ]
  },
  {
   "cell_type": "code",
   "execution_count": null,
   "id": "b931a34d",
   "metadata": {},
   "outputs": [],
   "source": [
    "# When you have this right, there will be small differences between\n",
    "# the unmoved_slice and the original_slice\n",
    "assert np.mean(np.abs(unmoved_slice - original_slice)) < 1.5"
   ]
  },
  {
   "cell_type": "markdown",
   "id": "6c4ee8cb",
   "metadata": {},
   "source": [
    "Now to shift up the difficulty a little bit.\n",
    "\n",
    "Here is another moved image."
   ]
  },
  {
   "cell_type": "code",
   "execution_count": null,
   "id": "ad3a272c",
   "metadata": {},
   "outputs": [],
   "source": [
    "moved_slice2 = np.loadtxt('moved_slice2.txt')\n",
    "plt.imshow(moved_slice2, cmap='gray')"
   ]
  },
  {
   "cell_type": "markdown",
   "id": "908f7416",
   "metadata": {},
   "source": [
    "For extra points, see if you can work out what shifts we applied to that image."
   ]
  },
  {
   "cell_type": "code",
   "execution_count": null,
   "id": "70832f62",
   "metadata": {},
   "outputs": [],
   "source": [
    "unmoved_slice2 = np.zeros(original_slice.shape)"
   ]
  },
  {
   "cell_type": "code",
   "execution_count": null,
   "id": "df0c4a22",
   "metadata": {},
   "outputs": [],
   "source": [
    "#- Your solution here!"
   ]
  }
 ],
 "metadata": {
  "jupytext": {
   "notebook_metadata_filter": "all,-language_info",
   "split_at_heading": true,
   "text_representation": {
    "extension": ".Rmd",
    "format_name": "rmarkdown",
    "format_version": "1.2",
    "jupytext_version": "1.10.3"
   }
  },
  "kernelspec": {
   "display_name": "Python 3",
   "language": "python",
   "name": "python3"
  }
 },
 "nbformat": 4,
 "nbformat_minor": 5
}
