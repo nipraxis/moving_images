{
 "cells": [
  {
   "cell_type": "markdown",
   "id": "845126d8",
   "metadata": {},
   "source": [
    "# Moving images"
   ]
  },
  {
   "cell_type": "code",
   "execution_count": 1,
   "id": "31808eec",
   "metadata": {
    "execution": {
     "iopub.execute_input": "2022-09-26T15:19:16.582776Z",
     "iopub.status.busy": "2022-09-26T15:19:16.581663Z",
     "iopub.status.idle": "2022-09-26T15:19:17.038276Z",
     "shell.execute_reply": "2022-09-26T15:19:17.039069Z"
    }
   },
   "outputs": [],
   "source": [
    "import numpy as np\n",
    "import matplotlib.pyplot as plt"
   ]
  },
  {
   "cell_type": "markdown",
   "id": "e6fce868",
   "metadata": {},
   "source": [
    "Here's a plane of data, in fact plane 160 from our familiar\n",
    "`ds114_sub009_highres.nii` structural image:"
   ]
  },
  {
   "cell_type": "code",
   "execution_count": 2,
   "id": "25c46fb3",
   "metadata": {
    "execution": {
     "iopub.execute_input": "2022-09-26T15:19:17.048107Z",
     "iopub.status.busy": "2022-09-26T15:19:17.046499Z",
     "iopub.status.idle": "2022-09-26T15:19:17.273475Z",
     "shell.execute_reply": "2022-09-26T15:19:17.274242Z"
    }
   },
   "outputs": [],
   "source": [
    "original_slice = np.loadtxt('original_slice.txt')\n",
    "plt.imshow(original_slice, cmap='gray')"
   ]
  },
  {
   "cell_type": "markdown",
   "id": "38ec2c20",
   "metadata": {},
   "source": [
    "Here is a copy of this image that we made (see `./make_moved.py` in this directory).\n",
    "\n",
    "Specifically, we made it by shifting the image 29 rows down and back 5 columns."
   ]
  },
  {
   "cell_type": "code",
   "execution_count": 3,
   "id": "2ba9a912",
   "metadata": {
    "execution": {
     "iopub.execute_input": "2022-09-26T15:19:17.282235Z",
     "iopub.status.busy": "2022-09-26T15:19:17.281280Z",
     "iopub.status.idle": "2022-09-26T15:19:17.495660Z",
     "shell.execute_reply": "2022-09-26T15:19:17.494934Z"
    }
   },
   "outputs": [],
   "source": [
    "moved_slice = np.loadtxt('moved_slice.txt')\n",
    "plt.imshow(moved_slice, cmap='gray')"
   ]
  },
  {
   "cell_type": "markdown",
   "id": "e2a28aef",
   "metadata": {},
   "source": [
    "The slices are, of course, 2D, and have shape:"
   ]
  },
  {
   "cell_type": "code",
   "execution_count": 4,
   "id": "51cca78c",
   "metadata": {
    "execution": {
     "iopub.execute_input": "2022-09-26T15:19:17.502417Z",
     "iopub.status.busy": "2022-09-26T15:19:17.501281Z",
     "iopub.status.idle": "2022-09-26T15:19:17.506670Z",
     "shell.execute_reply": "2022-09-26T15:19:17.505993Z"
    }
   },
   "outputs": [],
   "source": [
    "slice_shape = original_slice.shape\n",
    "slice_shape"
   ]
  },
  {
   "cell_type": "markdown",
   "id": "413f8607",
   "metadata": {},
   "source": [
    "Your job is to *undo* the shift we applied to `moved_slice`, without reference to `original_slice`.\n",
    "\n",
    "Here is a new array for you to start with, full of zeros."
   ]
  },
  {
   "cell_type": "code",
   "execution_count": 5,
   "id": "64d516cd",
   "metadata": {
    "execution": {
     "iopub.execute_input": "2022-09-26T15:19:17.514773Z",
     "iopub.status.busy": "2022-09-26T15:19:17.513067Z",
     "iopub.status.idle": "2022-09-26T15:19:17.517185Z",
     "shell.execute_reply": "2022-09-26T15:19:17.516459Z"
    }
   },
   "outputs": [],
   "source": [
    "unmoved_slice = np.zeros(original_slice.shape)"
   ]
  },
  {
   "cell_type": "markdown",
   "id": "0e4d33b0",
   "metadata": {},
   "source": [
    "Now, fill in the values in `unmoved_slice` by taking the corresponding values in `moved_slice`.  By *corresponding* we mean the values in positions corresponding to `original_slice`."
   ]
  },
  {
   "cell_type": "code",
   "execution_count": 6,
   "id": "299ba425",
   "metadata": {
    "execution": {
     "iopub.execute_input": "2022-09-26T15:19:17.585459Z",
     "iopub.status.busy": "2022-09-26T15:19:17.566579Z",
     "iopub.status.idle": "2022-09-26T15:19:17.754284Z",
     "shell.execute_reply": "2022-09-26T15:19:17.754978Z"
    }
   },
   "outputs": [],
   "source": [
    "#- Fill in the values in unmoved_slice so it is as close as possible\n",
    "#- to original_slice\n",
    "for row in range(slice_shape[0]):\n",
    "    for col in range(slice_shape[1]):\n",
    "        pull_row = row + 29\n",
    "        pull_col = col - 5\n",
    "        if (pull_row < slice_shape[0] and\n",
    "            pull_row >= 0 and\n",
    "            pull_col < slice_shape[1] and\n",
    "            pull_col >= 0):\n",
    "            unmoved_slice[row, col] = moved_slice[pull_row, pull_col]\n",
    "# Show the result\n",
    "plt.imshow(unmoved_slice, cmap='gray')"
   ]
  },
  {
   "cell_type": "code",
   "execution_count": 7,
   "id": "6505f6b9",
   "metadata": {
    "execution": {
     "iopub.execute_input": "2022-09-26T15:19:17.761879Z",
     "iopub.status.busy": "2022-09-26T15:19:17.760502Z",
     "iopub.status.idle": "2022-09-26T15:19:17.764073Z",
     "shell.execute_reply": "2022-09-26T15:19:17.764766Z"
    }
   },
   "outputs": [],
   "source": [
    "# When you have this right, there will be small differences between\n",
    "# the unmoved_slice and the original_slice\n",
    "assert np.mean(np.abs(unmoved_slice - original_slice)) < 1.5"
   ]
  }
 ],
 "metadata": {
  "jupytext": {
   "notebook_metadata_filter": "all,-language_info",
   "split_at_heading": true,
   "text_representation": {
    "extension": ".Rmd",
    "format_name": "rmarkdown",
    "format_version": "1.2",
    "jupytext_version": "1.10.3"
   }
  },
  "kernelspec": {
   "display_name": "Python 3",
   "language": "python",
   "name": "python3"
  },
  "language_info": {
   "codemirror_mode": {
    "name": "ipython",
    "version": 3
   },
   "file_extension": ".py",
   "mimetype": "text/x-python",
   "name": "python",
   "nbconvert_exporter": "python",
   "pygments_lexer": "ipython3",
   "version": "3.9.13"
  }
 },
 "nbformat": 4,
 "nbformat_minor": 5
}
