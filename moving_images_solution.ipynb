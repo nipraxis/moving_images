{
 "cells": [
  {
   "cell_type": "markdown",
   "id": "1d366f5f",
   "metadata": {},
   "source": [
    "# Moving images"
   ]
  },
  {
   "cell_type": "code",
   "execution_count": 1,
   "id": "d9853cc4",
   "metadata": {
    "execution": {
     "iopub.execute_input": "2022-09-26T15:18:20.520041Z",
     "iopub.status.busy": "2022-09-26T15:18:20.518819Z",
     "iopub.status.idle": "2022-09-26T15:18:21.150205Z",
     "shell.execute_reply": "2022-09-26T15:18:21.150962Z"
    }
   },
   "outputs": [],
   "source": [
    "import numpy as np\n",
    "import matplotlib.pyplot as plt"
   ]
  },
  {
   "cell_type": "markdown",
   "id": "c8e48dc6",
   "metadata": {},
   "source": [
    "Here's a plane of data, in fact plane 160 from our familiar\n",
    "`ds114_sub009_highres.nii` structural image:"
   ]
  },
  {
   "cell_type": "code",
   "execution_count": 2,
   "id": "714cb899",
   "metadata": {
    "execution": {
     "iopub.execute_input": "2022-09-26T15:18:21.158248Z",
     "iopub.status.busy": "2022-09-26T15:18:21.157264Z",
     "iopub.status.idle": "2022-09-26T15:18:21.411768Z",
     "shell.execute_reply": "2022-09-26T15:18:21.412461Z"
    }
   },
   "outputs": [],
   "source": [
    "original_slice = np.loadtxt('original_slice.txt')\n",
    "plt.imshow(original_slice, cmap='gray')"
   ]
  },
  {
   "cell_type": "markdown",
   "id": "818321c0",
   "metadata": {},
   "source": [
    "Here is a copy of this image that we made (see `./make_moved.py` in this directory).\n",
    "\n",
    "Specifically, we made it by shifting the image 29 rows down and back 5 columns."
   ]
  },
  {
   "cell_type": "code",
   "execution_count": 3,
   "id": "911bba0f",
   "metadata": {
    "execution": {
     "iopub.execute_input": "2022-09-26T15:18:21.420115Z",
     "iopub.status.busy": "2022-09-26T15:18:21.418848Z",
     "iopub.status.idle": "2022-09-26T15:18:21.635314Z",
     "shell.execute_reply": "2022-09-26T15:18:21.636006Z"
    }
   },
   "outputs": [],
   "source": [
    "moved_slice = np.loadtxt('moved_slice.txt')\n",
    "plt.imshow(moved_slice, cmap='gray')"
   ]
  },
  {
   "cell_type": "markdown",
   "id": "994bb1fa",
   "metadata": {},
   "source": [
    "The slices are, of course, 2D, and have shape:"
   ]
  },
  {
   "cell_type": "code",
   "execution_count": 4,
   "id": "48cc1f42",
   "metadata": {
    "execution": {
     "iopub.execute_input": "2022-09-26T15:18:21.644294Z",
     "iopub.status.busy": "2022-09-26T15:18:21.643023Z",
     "iopub.status.idle": "2022-09-26T15:18:21.647846Z",
     "shell.execute_reply": "2022-09-26T15:18:21.647110Z"
    }
   },
   "outputs": [],
   "source": [
    "slice_shape = original_slice.shape\n",
    "slice_shape"
   ]
  },
  {
   "cell_type": "markdown",
   "id": "5693811c",
   "metadata": {},
   "source": [
    "Your job is to *undo* the shift we applied to `moved_slice`, without reference to `original_slice`.\n",
    "\n",
    "Here is a new array for you to start with, full of zeros."
   ]
  },
  {
   "cell_type": "code",
   "execution_count": 5,
   "id": "409bffd9",
   "metadata": {
    "execution": {
     "iopub.execute_input": "2022-09-26T15:18:21.655396Z",
     "iopub.status.busy": "2022-09-26T15:18:21.653921Z",
     "iopub.status.idle": "2022-09-26T15:18:21.657208Z",
     "shell.execute_reply": "2022-09-26T15:18:21.657892Z"
    }
   },
   "outputs": [],
   "source": [
    "unmoved_slice = np.zeros(original_slice.shape)"
   ]
  },
  {
   "cell_type": "markdown",
   "id": "f2d09238",
   "metadata": {},
   "source": [
    "Now, fill in the values in `unmoved_slice` by taking the corresponding values in `moved_slice`.  By *corresponding* we mean the values in positions corresponding to `original_slice`."
   ]
  },
  {
   "cell_type": "code",
   "execution_count": 6,
   "id": "67712a3e",
   "metadata": {
    "execution": {
     "iopub.execute_input": "2022-09-26T15:18:21.724631Z",
     "iopub.status.busy": "2022-09-26T15:18:21.715924Z",
     "iopub.status.idle": "2022-09-26T15:18:21.891173Z",
     "shell.execute_reply": "2022-09-26T15:18:21.891868Z"
    }
   },
   "outputs": [],
   "source": [
    "#- Fill in the values in unmoved_slice so it is as close as possible\n",
    "#- to original_slice\n",
    "for row in range(slice_shape[0]):\n",
    "    for col in range(slice_shape[1]):\n",
    "        pull_row = row + 29\n",
    "        pull_col = col - 5\n",
    "        if (pull_row < slice_shape[0] and\n",
    "            pull_row >= 0 and\n",
    "            pull_col < slice_shape[1] and\n",
    "            pull_col >= 0):\n",
    "            unmoved_slice[row, col] = moved_slice[pull_row, pull_col]\n",
    "# Show the result\n",
    "plt.imshow(unmoved_slice, cmap='gray')"
   ]
  },
  {
   "cell_type": "code",
   "execution_count": 7,
   "id": "4488e828",
   "metadata": {
    "execution": {
     "iopub.execute_input": "2022-09-26T15:18:21.898447Z",
     "iopub.status.busy": "2022-09-26T15:18:21.896991Z",
     "iopub.status.idle": "2022-09-26T15:18:21.900761Z",
     "shell.execute_reply": "2022-09-26T15:18:21.901454Z"
    }
   },
   "outputs": [],
   "source": [
    "# When you have this right, there will be small differences between\n",
    "# the unmoved_slice and the original_slice\n",
    "assert np.mean(np.abs(unmoved_slice - original_slice)) < 1.5"
   ]
  }
 ],
 "metadata": {
  "jupytext": {
   "notebook_metadata_filter": "all,-language_info",
   "split_at_heading": true,
   "text_representation": {
    "extension": ".Rmd",
    "format_name": "rmarkdown",
    "format_version": "1.2",
    "jupytext_version": "1.10.3"
   }
  },
  "kernelspec": {
   "display_name": "Python 3",
   "language": "python",
   "name": "python3"
  },
  "language_info": {
   "codemirror_mode": {
    "name": "ipython",
    "version": 3
   },
   "file_extension": ".py",
   "mimetype": "text/x-python",
   "name": "python",
   "nbconvert_exporter": "python",
   "pygments_lexer": "ipython3",
   "version": "3.9.13"
  }
 },
 "nbformat": 4,
 "nbformat_minor": 5
}
