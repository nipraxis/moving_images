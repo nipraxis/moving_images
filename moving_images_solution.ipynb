{
 "cells": [
  {
   "cell_type": "markdown",
   "id": "53758205",
   "metadata": {},
   "source": [
    "# Moving images"
   ]
  },
  {
   "cell_type": "code",
   "execution_count": 1,
   "id": "a29e49dd",
   "metadata": {
    "execution": {
     "iopub.execute_input": "2022-09-28T04:24:12.546319Z",
     "iopub.status.busy": "2022-09-28T04:24:12.545280Z",
     "iopub.status.idle": "2022-09-28T04:24:13.245440Z",
     "shell.execute_reply": "2022-09-28T04:24:13.246135Z"
    }
   },
   "outputs": [],
   "source": [
    "import numpy as np\n",
    "import matplotlib.pyplot as plt"
   ]
  },
  {
   "cell_type": "markdown",
   "id": "3c3bed00",
   "metadata": {},
   "source": [
    "Here's a plane of data, in fact plane 160 from our familiar\n",
    "`ds114_sub009_highres.nii` structural image:"
   ]
  },
  {
   "cell_type": "code",
   "execution_count": 2,
   "id": "5180bd8b",
   "metadata": {
    "execution": {
     "iopub.execute_input": "2022-09-28T04:24:13.253209Z",
     "iopub.status.busy": "2022-09-28T04:24:13.251900Z",
     "iopub.status.idle": "2022-09-28T04:24:13.514714Z",
     "shell.execute_reply": "2022-09-28T04:24:13.515393Z"
    }
   },
   "outputs": [],
   "source": [
    "original_slice = np.loadtxt('original_slice.txt')\n",
    "plt.imshow(original_slice, cmap='gray')"
   ]
  },
  {
   "cell_type": "markdown",
   "id": "db5039b8",
   "metadata": {},
   "source": [
    "Here is a copy of this image that we made.\n",
    "\n",
    "Specifically, we made it by shifting the image 29 rows down and back 5 columns."
   ]
  },
  {
   "cell_type": "code",
   "execution_count": 3,
   "id": "1f051ff5",
   "metadata": {
    "execution": {
     "iopub.execute_input": "2022-09-28T04:24:13.522539Z",
     "iopub.status.busy": "2022-09-28T04:24:13.520753Z",
     "iopub.status.idle": "2022-09-28T04:24:13.733402Z",
     "shell.execute_reply": "2022-09-28T04:24:13.734057Z"
    }
   },
   "outputs": [],
   "source": [
    "moved_slice = np.loadtxt('moved_slice.txt')\n",
    "plt.imshow(moved_slice, cmap='gray')"
   ]
  },
  {
   "cell_type": "markdown",
   "id": "9e0d8ff8",
   "metadata": {},
   "source": [
    "The slices are, of course, 2D, and have shape:"
   ]
  },
  {
   "cell_type": "code",
   "execution_count": 4,
   "id": "cd779235",
   "metadata": {
    "execution": {
     "iopub.execute_input": "2022-09-28T04:24:13.740573Z",
     "iopub.status.busy": "2022-09-28T04:24:13.739411Z",
     "iopub.status.idle": "2022-09-28T04:24:13.743295Z",
     "shell.execute_reply": "2022-09-28T04:24:13.744247Z"
    }
   },
   "outputs": [],
   "source": [
    "slice_shape = original_slice.shape\n",
    "slice_shape"
   ]
  },
  {
   "cell_type": "markdown",
   "id": "26e67cee",
   "metadata": {},
   "source": [
    "Your job is to *undo* the shift we applied to `moved_slice`, without reference to `original_slice`.\n",
    "\n",
    "Here is a new array for you to start with, full of zeros."
   ]
  },
  {
   "cell_type": "code",
   "execution_count": 5,
   "id": "68ce8fb7",
   "metadata": {
    "execution": {
     "iopub.execute_input": "2022-09-28T04:24:13.751072Z",
     "iopub.status.busy": "2022-09-28T04:24:13.750071Z",
     "iopub.status.idle": "2022-09-28T04:24:13.752654Z",
     "shell.execute_reply": "2022-09-28T04:24:13.753309Z"
    }
   },
   "outputs": [],
   "source": [
    "unmoved_slice = np.zeros(original_slice.shape)"
   ]
  },
  {
   "cell_type": "markdown",
   "id": "2ae8a292",
   "metadata": {},
   "source": [
    "Now, fill in the values in `unmoved_slice` by taking the corresponding values in `moved_slice`.  By *corresponding* we mean the values in positions corresponding to `original_slice`.\n",
    "\n",
    "**STOP**.  Before you go any further, get a piece of paper, and work out what\n",
    "you are trying to do.  If you don't do this, it is very easy to get confused,\n",
    "when you are writing the code.  Consider that we have some *output* coordinates\n",
    "in terms of row and column and then *input* coordinates, that are the output\n",
    "coordinates transformed to match the positions in the `moved_slice` for which\n",
    "we want to get the data."
   ]
  },
  {
   "cell_type": "code",
   "execution_count": 6,
   "id": "d76cdaff",
   "metadata": {
    "execution": {
     "iopub.execute_input": "2022-09-28T04:24:13.816421Z",
     "iopub.status.busy": "2022-09-28T04:24:13.789180Z",
     "iopub.status.idle": "2022-09-28T04:24:13.972487Z",
     "shell.execute_reply": "2022-09-28T04:24:13.973181Z"
    }
   },
   "outputs": [],
   "source": [
    "#- Fill in the values in unmoved_slice so it is as close as possible\n",
    "#- to original_slice\n",
    "# Refresh the new (output) image with zeros.\n",
    "unmoved_slice = np.zeros(original_slice.shape)\n",
    "for output_row in range(slice_shape[0]):\n",
    "    for output_col in range(slice_shape[1]):\n",
    "        input_row = output_row + 29\n",
    "        input_col = output_col - 5\n",
    "        if (input_row < slice_shape[0] and\n",
    "            input_row >= 0 and\n",
    "            input_col < slice_shape[1] and\n",
    "            input_col >= 0):\n",
    "            unmoved_slice[output_row, output_col] = \\\n",
    "                  moved_slice[input_row, input_col]\n",
    "# Show the result\n",
    "plt.imshow(unmoved_slice, cmap='gray')"
   ]
  },
  {
   "cell_type": "code",
   "execution_count": 7,
   "id": "556ff6e1",
   "metadata": {
    "execution": {
     "iopub.execute_input": "2022-09-28T04:24:13.980374Z",
     "iopub.status.busy": "2022-09-28T04:24:13.979134Z",
     "iopub.status.idle": "2022-09-28T04:24:13.984416Z",
     "shell.execute_reply": "2022-09-28T04:24:13.983681Z"
    }
   },
   "outputs": [],
   "source": [
    "# When you have this right, there will be small differences between\n",
    "# the unmoved_slice and the original_slice\n",
    "assert np.mean(np.abs(unmoved_slice - original_slice)) < 1.5\n",
    "np.mean(np.abs(unmoved_slice - original_slice))\n",
    "# Did you deal correctly with negative coordinates in the moving image above?\n",
    "# Remember what it means if you use negative numbers as indices\n",
    "# into an array.\n",
    "assert np.all(unmoved_slice[:, :5] == 0)"
   ]
  },
  {
   "cell_type": "markdown",
   "id": "8be8464f",
   "metadata": {},
   "source": [
    "Now to shift up the difficulty a little bit.\n",
    "\n",
    "Here is another moved image."
   ]
  },
  {
   "cell_type": "code",
   "execution_count": 8,
   "id": "383ed2f0",
   "metadata": {
    "execution": {
     "iopub.execute_input": "2022-09-28T04:24:13.991064Z",
     "iopub.status.busy": "2022-09-28T04:24:13.990002Z",
     "iopub.status.idle": "2022-09-28T04:24:14.323763Z",
     "shell.execute_reply": "2022-09-28T04:24:14.322949Z"
    }
   },
   "outputs": [],
   "source": [
    "moved_slice2 = np.loadtxt('moved_slice2.txt')\n",
    "plt.imshow(moved_slice2, cmap='gray')"
   ]
  },
  {
   "cell_type": "markdown",
   "id": "c4355be8",
   "metadata": {},
   "source": [
    "For extra points, see if you can work out what shifts we applied to that image."
   ]
  },
  {
   "cell_type": "code",
   "execution_count": 9,
   "id": "989dcbb3",
   "metadata": {
    "execution": {
     "iopub.execute_input": "2022-09-28T04:24:14.332849Z",
     "iopub.status.busy": "2022-09-28T04:24:14.331577Z",
     "iopub.status.idle": "2022-09-28T04:24:14.333939Z",
     "shell.execute_reply": "2022-09-28T04:24:14.334600Z"
    }
   },
   "outputs": [],
   "source": [
    "unmoved_slice2 = np.zeros(original_slice.shape)"
   ]
  },
  {
   "cell_type": "code",
   "execution_count": 10,
   "id": "7ce71820",
   "metadata": {
    "execution": {
     "iopub.execute_input": "2022-09-28T04:24:14.483435Z",
     "iopub.status.busy": "2022-09-28T04:24:14.442145Z",
     "iopub.status.idle": "2022-09-28T04:25:05.188864Z",
     "shell.execute_reply": "2022-09-28T04:25:05.189803Z"
    },
    "lines_to_next_cell": 0
   },
   "outputs": [],
   "source": [
    "#- Your solution here!\n",
    "def move_slice(arr, x_trans, y_trans):\n",
    "    slice_shape = arr.shape\n",
    "    out_arr = np.zeros(slice_shape)\n",
    "    for in_row in range(slice_shape[0]):\n",
    "        for in_col in range(slice_shape[1]):\n",
    "            out_row = in_row + x_trans\n",
    "            out_col = in_col + y_trans\n",
    "            if (0 <= out_row < slice_shape[0] and\n",
    "                0 <= out_col < slice_shape[1]):\n",
    "                out_arr[out_row, out_col] = arr[in_row, in_col]\n",
    "    return out_arr\n",
    "\n",
    "x_translations = np.arange(-20, 21)\n",
    "y_translations = np.arange(-8, 9)\n",
    "lowest_cost = np.inf\n",
    "best_x = best_y = np.nan\n",
    "\n",
    "for i, x_trans in enumerate(x_translations):\n",
    "    for j, y_trans in enumerate(y_translations):\n",
    "        moved = move_slice(moved_slice2, x_trans, y_trans)\n",
    "        cost = np.mean(np.abs(moved - original_slice))\n",
    "        if cost < lowest_cost:\n",
    "            lowest_cost = cost\n",
    "            best_x = x_trans\n",
    "            best_y = y_trans\n",
    "\n",
    "best_x, best_y"
   ]
  },
  {
   "cell_type": "markdown",
   "id": "38381828",
   "metadata": {},
   "source": [
    "If you want to know if you found the right answer, have a look at the `./make_moved.py` script in the same directory as this notebook."
   ]
  }
 ],
 "metadata": {
  "jupytext": {
   "notebook_metadata_filter": "all,-language_info",
   "split_at_heading": true,
   "text_representation": {
    "extension": ".Rmd",
    "format_name": "rmarkdown",
    "format_version": "1.2",
    "jupytext_version": "1.10.3"
   }
  },
  "kernelspec": {
   "display_name": "Python 3",
   "language": "python",
   "name": "python3"
  },
  "language_info": {
   "codemirror_mode": {
    "name": "ipython",
    "version": 3
   },
   "file_extension": ".py",
   "mimetype": "text/x-python",
   "name": "python",
   "nbconvert_exporter": "python",
   "pygments_lexer": "ipython3",
   "version": "3.9.13"
  }
 },
 "nbformat": 4,
 "nbformat_minor": 5
}
