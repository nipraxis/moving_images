{
 "cells": [
  {
   "cell_type": "markdown",
   "id": "57b0885b",
   "metadata": {},
   "source": [
    "# Moving images"
   ]
  },
  {
   "cell_type": "code",
   "execution_count": 1,
   "id": "31adbea5",
   "metadata": {
    "execution": {
     "iopub.execute_input": "2022-09-26T15:48:23.027879Z",
     "iopub.status.busy": "2022-09-26T15:48:23.026623Z",
     "iopub.status.idle": "2022-09-26T15:48:23.655176Z",
     "shell.execute_reply": "2022-09-26T15:48:23.656290Z"
    }
   },
   "outputs": [],
   "source": [
    "import numpy as np\n",
    "import matplotlib.pyplot as plt"
   ]
  },
  {
   "cell_type": "markdown",
   "id": "ac2920f1",
   "metadata": {},
   "source": [
    "Here's a plane of data, in fact plane 160 from our familiar\n",
    "`ds114_sub009_highres.nii` structural image:"
   ]
  },
  {
   "cell_type": "code",
   "execution_count": 2,
   "id": "eea9a00d",
   "metadata": {
    "execution": {
     "iopub.execute_input": "2022-09-26T15:48:23.665428Z",
     "iopub.status.busy": "2022-09-26T15:48:23.664473Z",
     "iopub.status.idle": "2022-09-26T15:48:23.894787Z",
     "shell.execute_reply": "2022-09-26T15:48:23.894111Z"
    }
   },
   "outputs": [],
   "source": [
    "original_slice = np.loadtxt('original_slice.txt')\n",
    "plt.imshow(original_slice, cmap='gray')"
   ]
  },
  {
   "cell_type": "markdown",
   "id": "71eeb26a",
   "metadata": {},
   "source": [
    "Here is a copy of this image that we made.\n",
    "\n",
    "Specifically, we made it by shifting the image 29 rows down and back 5 columns."
   ]
  },
  {
   "cell_type": "code",
   "execution_count": 3,
   "id": "b9fe365c",
   "metadata": {
    "execution": {
     "iopub.execute_input": "2022-09-26T15:48:23.901118Z",
     "iopub.status.busy": "2022-09-26T15:48:23.900210Z",
     "iopub.status.idle": "2022-09-26T15:48:24.112459Z",
     "shell.execute_reply": "2022-09-26T15:48:24.113268Z"
    }
   },
   "outputs": [],
   "source": [
    "moved_slice = np.loadtxt('moved_slice.txt')\n",
    "plt.imshow(moved_slice, cmap='gray')"
   ]
  },
  {
   "cell_type": "markdown",
   "id": "cfb26979",
   "metadata": {},
   "source": [
    "The slices are, of course, 2D, and have shape:"
   ]
  },
  {
   "cell_type": "code",
   "execution_count": 4,
   "id": "ccc0fe17",
   "metadata": {
    "execution": {
     "iopub.execute_input": "2022-09-26T15:48:24.120024Z",
     "iopub.status.busy": "2022-09-26T15:48:24.118938Z",
     "iopub.status.idle": "2022-09-26T15:48:24.123160Z",
     "shell.execute_reply": "2022-09-26T15:48:24.124468Z"
    }
   },
   "outputs": [],
   "source": [
    "slice_shape = original_slice.shape\n",
    "slice_shape"
   ]
  },
  {
   "cell_type": "markdown",
   "id": "316e4989",
   "metadata": {},
   "source": [
    "Your job is to *undo* the shift we applied to `moved_slice`, without reference to `original_slice`.\n",
    "\n",
    "Here is a new array for you to start with, full of zeros."
   ]
  },
  {
   "cell_type": "code",
   "execution_count": 5,
   "id": "cf5ce6f3",
   "metadata": {
    "execution": {
     "iopub.execute_input": "2022-09-26T15:48:24.132257Z",
     "iopub.status.busy": "2022-09-26T15:48:24.131260Z",
     "iopub.status.idle": "2022-09-26T15:48:24.134383Z",
     "shell.execute_reply": "2022-09-26T15:48:24.135067Z"
    }
   },
   "outputs": [],
   "source": [
    "unmoved_slice = np.zeros(original_slice.shape)"
   ]
  },
  {
   "cell_type": "markdown",
   "id": "0a6afc2c",
   "metadata": {},
   "source": [
    "Now, fill in the values in `unmoved_slice` by taking the corresponding values in `moved_slice`.  By *corresponding* we mean the values in positions corresponding to `original_slice`."
   ]
  },
  {
   "cell_type": "code",
   "execution_count": 6,
   "id": "81e21c19",
   "metadata": {
    "execution": {
     "iopub.execute_input": "2022-09-26T15:48:24.199499Z",
     "iopub.status.busy": "2022-09-26T15:48:24.176154Z",
     "iopub.status.idle": "2022-09-26T15:48:24.351874Z",
     "shell.execute_reply": "2022-09-26T15:48:24.352523Z"
    }
   },
   "outputs": [],
   "source": [
    "#- Fill in the values in unmoved_slice so it is as close as possible\n",
    "#- to original_slice\n",
    "for row in range(slice_shape[0]):\n",
    "    for col in range(slice_shape[1]):\n",
    "        pull_row = row + 29\n",
    "        pull_col = col - 5\n",
    "        if (pull_row < slice_shape[0] and\n",
    "            pull_row >= 0 and\n",
    "            pull_col < slice_shape[1] and\n",
    "            pull_col >= 0):\n",
    "            unmoved_slice[row, col] = moved_slice[pull_row, pull_col]\n",
    "# Show the result\n",
    "plt.imshow(unmoved_slice, cmap='gray')"
   ]
  },
  {
   "cell_type": "code",
   "execution_count": 7,
   "id": "2d628ffb",
   "metadata": {
    "execution": {
     "iopub.execute_input": "2022-09-26T15:48:24.359527Z",
     "iopub.status.busy": "2022-09-26T15:48:24.358079Z",
     "iopub.status.idle": "2022-09-26T15:48:24.362821Z",
     "shell.execute_reply": "2022-09-26T15:48:24.363636Z"
    }
   },
   "outputs": [],
   "source": [
    "# When you have this right, there will be small differences between\n",
    "# the unmoved_slice and the original_slice\n",
    "assert np.mean(np.abs(unmoved_slice - original_slice)) < 1.5"
   ]
  },
  {
   "cell_type": "markdown",
   "id": "d04257fc",
   "metadata": {},
   "source": [
    "Now to shift up the difficulty a little bit.\n",
    "\n",
    "Here is another moved image."
   ]
  },
  {
   "cell_type": "code",
   "execution_count": 8,
   "id": "1c541298",
   "metadata": {
    "execution": {
     "iopub.execute_input": "2022-09-26T15:48:24.369723Z",
     "iopub.status.busy": "2022-09-26T15:48:24.368780Z",
     "iopub.status.idle": "2022-09-26T15:48:24.574386Z",
     "shell.execute_reply": "2022-09-26T15:48:24.575135Z"
    }
   },
   "outputs": [],
   "source": [
    "moved_slice2 = np.loadtxt('moved_slice2.txt')\n",
    "plt.imshow(moved_slice2, cmap='gray')"
   ]
  },
  {
   "cell_type": "markdown",
   "id": "4effa3e6",
   "metadata": {},
   "source": [
    "For extra points, see if you can work out what shifts we applied to that image."
   ]
  },
  {
   "cell_type": "code",
   "execution_count": 9,
   "id": "a3f62025",
   "metadata": {
    "execution": {
     "iopub.execute_input": "2022-09-26T15:48:24.581581Z",
     "iopub.status.busy": "2022-09-26T15:48:24.580560Z",
     "iopub.status.idle": "2022-09-26T15:48:24.583126Z",
     "shell.execute_reply": "2022-09-26T15:48:24.584049Z"
    }
   },
   "outputs": [],
   "source": [
    "unmoved_slice2 = np.zeros(original_slice.shape)"
   ]
  },
  {
   "cell_type": "code",
   "execution_count": 10,
   "id": "141e3652",
   "metadata": {
    "execution": {
     "iopub.execute_input": "2022-09-26T15:48:24.592612Z",
     "iopub.status.busy": "2022-09-26T15:48:24.590969Z",
     "iopub.status.idle": "2022-09-26T15:48:24.595923Z",
     "shell.execute_reply": "2022-09-26T15:48:24.595089Z"
    }
   },
   "outputs": [],
   "source": [
    "#- Your solution here!\n",
    "def move_slice(arr, x_trans, y_trans):\n",
    "    out_arr = np.zeros(arr.shape)\n",
    "    slice_shape = arr.shape\n",
    "    for row in range(slice_shape[0]):\n",
    "        for col in range(slice_shape[1]):\n",
    "            pull_row = row + 29\n",
    "            pull_col = col - 5\n",
    "            if (pull_row < slice_shape[0] and\n",
    "                pull_row >= 0 and\n",
    "                pull_col < slice_shape[1] and\n",
    "                pull_col >= 0):\n",
    "                out_arr[row, col] = arr[pull_row, pull_col]\n",
    "    return move_slice\n",
    "\n",
    "# See if you can work out what to do with this code!"
   ]
  }
 ],
 "metadata": {
  "jupytext": {
   "notebook_metadata_filter": "all,-language_info",
   "split_at_heading": true,
   "text_representation": {
    "extension": ".Rmd",
    "format_name": "rmarkdown",
    "format_version": "1.2",
    "jupytext_version": "1.10.3"
   }
  },
  "kernelspec": {
   "display_name": "Python 3",
   "language": "python",
   "name": "python3"
  },
  "language_info": {
   "codemirror_mode": {
    "name": "ipython",
    "version": 3
   },
   "file_extension": ".py",
   "mimetype": "text/x-python",
   "name": "python",
   "nbconvert_exporter": "python",
   "pygments_lexer": "ipython3",
   "version": "3.9.13"
  }
 },
 "nbformat": 4,
 "nbformat_minor": 5
}
