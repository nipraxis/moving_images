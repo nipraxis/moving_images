{
 "cells": [
  {
   "cell_type": "markdown",
   "id": "309ed384",
   "metadata": {},
   "source": [
    "# Moving images"
   ]
  },
  {
   "cell_type": "code",
   "execution_count": 1,
   "id": "5e849b97",
   "metadata": {
    "execution": {
     "iopub.execute_input": "2022-09-26T17:21:16.573721Z",
     "iopub.status.busy": "2022-09-26T17:21:16.572722Z",
     "iopub.status.idle": "2022-09-26T17:21:17.352859Z",
     "shell.execute_reply": "2022-09-26T17:21:17.353997Z"
    }
   },
   "outputs": [],
   "source": [
    "import numpy as np\n",
    "import matplotlib.pyplot as plt"
   ]
  },
  {
   "cell_type": "markdown",
   "id": "f13b4738",
   "metadata": {},
   "source": [
    "Here's a plane of data, in fact plane 160 from our familiar\n",
    "`ds114_sub009_highres.nii` structural image:"
   ]
  },
  {
   "cell_type": "code",
   "execution_count": 2,
   "id": "91fe6261",
   "metadata": {
    "execution": {
     "iopub.execute_input": "2022-09-26T17:21:17.362564Z",
     "iopub.status.busy": "2022-09-26T17:21:17.360572Z",
     "iopub.status.idle": "2022-09-26T17:21:17.740133Z",
     "shell.execute_reply": "2022-09-26T17:21:17.739297Z"
    }
   },
   "outputs": [],
   "source": [
    "original_slice = np.loadtxt('original_slice.txt')\n",
    "plt.imshow(original_slice, cmap='gray')"
   ]
  },
  {
   "cell_type": "markdown",
   "id": "fa8a7c9f",
   "metadata": {},
   "source": [
    "Here is a copy of this image that we made.\n",
    "\n",
    "Specifically, we made it by shifting the image 29 rows down and back 5 columns."
   ]
  },
  {
   "cell_type": "code",
   "execution_count": 3,
   "id": "83292244",
   "metadata": {
    "execution": {
     "iopub.execute_input": "2022-09-26T17:21:17.752693Z",
     "iopub.status.busy": "2022-09-26T17:21:17.750778Z",
     "iopub.status.idle": "2022-09-26T17:21:18.077970Z",
     "shell.execute_reply": "2022-09-26T17:21:18.078640Z"
    }
   },
   "outputs": [],
   "source": [
    "moved_slice = np.loadtxt('moved_slice.txt')\n",
    "plt.imshow(moved_slice, cmap='gray')"
   ]
  },
  {
   "cell_type": "markdown",
   "id": "b7c15dcd",
   "metadata": {},
   "source": [
    "The slices are, of course, 2D, and have shape:"
   ]
  },
  {
   "cell_type": "code",
   "execution_count": 4,
   "id": "1d31021f",
   "metadata": {
    "execution": {
     "iopub.execute_input": "2022-09-26T17:21:18.090066Z",
     "iopub.status.busy": "2022-09-26T17:21:18.088010Z",
     "iopub.status.idle": "2022-09-26T17:21:18.094382Z",
     "shell.execute_reply": "2022-09-26T17:21:18.095291Z"
    }
   },
   "outputs": [],
   "source": [
    "slice_shape = original_slice.shape\n",
    "slice_shape"
   ]
  },
  {
   "cell_type": "markdown",
   "id": "3c9b1fc7",
   "metadata": {},
   "source": [
    "Your job is to *undo* the shift we applied to `moved_slice`, without reference to `original_slice`.\n",
    "\n",
    "Here is a new array for you to start with, full of zeros."
   ]
  },
  {
   "cell_type": "code",
   "execution_count": 5,
   "id": "33d5b62e",
   "metadata": {
    "execution": {
     "iopub.execute_input": "2022-09-26T17:21:18.102784Z",
     "iopub.status.busy": "2022-09-26T17:21:18.101352Z",
     "iopub.status.idle": "2022-09-26T17:21:18.107818Z",
     "shell.execute_reply": "2022-09-26T17:21:18.106416Z"
    }
   },
   "outputs": [],
   "source": [
    "unmoved_slice = np.zeros(original_slice.shape)"
   ]
  },
  {
   "cell_type": "markdown",
   "id": "8b9530bb",
   "metadata": {},
   "source": [
    "Now, fill in the values in `unmoved_slice` by taking the corresponding values in `moved_slice`.  By *corresponding* we mean the values in positions corresponding to `original_slice`."
   ]
  },
  {
   "cell_type": "code",
   "execution_count": 6,
   "id": "a47e65e9",
   "metadata": {
    "execution": {
     "iopub.execute_input": "2022-09-26T17:21:18.188860Z",
     "iopub.status.busy": "2022-09-26T17:21:18.152940Z",
     "iopub.status.idle": "2022-09-26T17:21:18.435771Z",
     "shell.execute_reply": "2022-09-26T17:21:18.436807Z"
    }
   },
   "outputs": [],
   "source": [
    "#- Fill in the values in unmoved_slice so it is as close as possible\n",
    "#- to original_slice\n",
    "for row in range(slice_shape[0]):\n",
    "    for col in range(slice_shape[1]):\n",
    "        pull_row = row + 29\n",
    "        pull_col = col - 5\n",
    "        if (pull_row < slice_shape[0] and\n",
    "            pull_row >= 0 and\n",
    "            pull_col < slice_shape[1] and\n",
    "            pull_col >= 0):\n",
    "            unmoved_slice[row, col] = moved_slice[pull_row, pull_col]\n",
    "# Show the result\n",
    "plt.imshow(unmoved_slice, cmap='gray')"
   ]
  },
  {
   "cell_type": "code",
   "execution_count": 7,
   "id": "d1eb4e2c",
   "metadata": {
    "execution": {
     "iopub.execute_input": "2022-09-26T17:21:18.445628Z",
     "iopub.status.busy": "2022-09-26T17:21:18.443259Z",
     "iopub.status.idle": "2022-09-26T17:21:18.452235Z",
     "shell.execute_reply": "2022-09-26T17:21:18.452933Z"
    }
   },
   "outputs": [],
   "source": [
    "# When you have this right, there will be small differences between\n",
    "# the unmoved_slice and the original_slice\n",
    "assert np.mean(np.abs(unmoved_slice - original_slice)) < 1.5"
   ]
  },
  {
   "cell_type": "markdown",
   "id": "aa15468a",
   "metadata": {},
   "source": [
    "Now to shift up the difficulty a little bit.\n",
    "\n",
    "Here is another moved image."
   ]
  },
  {
   "cell_type": "code",
   "execution_count": 8,
   "id": "ac7f7d69",
   "metadata": {
    "execution": {
     "iopub.execute_input": "2022-09-26T17:21:18.460997Z",
     "iopub.status.busy": "2022-09-26T17:21:18.459644Z",
     "iopub.status.idle": "2022-09-26T17:21:18.762820Z",
     "shell.execute_reply": "2022-09-26T17:21:18.763534Z"
    }
   },
   "outputs": [],
   "source": [
    "moved_slice2 = np.loadtxt('moved_slice2.txt')\n",
    "plt.imshow(moved_slice2, cmap='gray')"
   ]
  },
  {
   "cell_type": "markdown",
   "id": "3b6d20cd",
   "metadata": {},
   "source": [
    "For extra points, see if you can work out what shifts we applied to that image."
   ]
  },
  {
   "cell_type": "code",
   "execution_count": 9,
   "id": "abfc1aac",
   "metadata": {
    "execution": {
     "iopub.execute_input": "2022-09-26T17:21:18.774579Z",
     "iopub.status.busy": "2022-09-26T17:21:18.773065Z",
     "iopub.status.idle": "2022-09-26T17:21:18.780126Z",
     "shell.execute_reply": "2022-09-26T17:21:18.790671Z"
    }
   },
   "outputs": [],
   "source": [
    "unmoved_slice2 = np.zeros(original_slice.shape)"
   ]
  },
  {
   "cell_type": "code",
   "execution_count": 10,
   "id": "63a035d3",
   "metadata": {
    "execution": {
     "iopub.execute_input": "2022-09-26T17:21:18.923129Z",
     "iopub.status.busy": "2022-09-26T17:21:18.910573Z",
     "iopub.status.idle": "2022-09-26T17:22:28.114314Z",
     "shell.execute_reply": "2022-09-26T17:22:28.115079Z"
    },
    "lines_to_next_cell": 0
   },
   "outputs": [],
   "source": [
    "#- Your solution here!\n",
    "def move_slice(arr, x_trans, y_trans):\n",
    "    slice_shape = arr.shape\n",
    "    out_arr = np.zeros(slice_shape)\n",
    "    for row in range(slice_shape[0]):\n",
    "        for col in range(slice_shape[1]):\n",
    "            pull_row = row + x_trans\n",
    "            pull_col = col + y_trans\n",
    "            if (0 <= pull_row < slice_shape[0] and\n",
    "                0 <= pull_col < slice_shape[1]):\n",
    "                out_arr[row, col] = arr[pull_row, pull_col]\n",
    "    return out_arr\n",
    "\n",
    "x_translations = np.arange(-20, 21)\n",
    "y_translations = np.arange(-8, 9)\n",
    "lowest_cost = np.inf\n",
    "best_x = best_y = np.nan\n",
    "\n",
    "for i, x_trans in enumerate(x_translations):\n",
    "    for j, y_trans in enumerate(y_translations):\n",
    "        moved = move_slice(moved_slice2, x_trans, y_trans)\n",
    "        cost = np.mean(np.abs(moved - original_slice))\n",
    "        if cost < lowest_cost:\n",
    "            lowest_cost = cost\n",
    "            best_x = x_trans\n",
    "            best_y = y_trans\n",
    "\n",
    "best_x, best_y"
   ]
  },
  {
   "cell_type": "markdown",
   "id": "7b4b8005",
   "metadata": {},
   "source": [
    "If you want to know if you found the right answer, have a look at the `./make_moved.py` script in the same directory as this notebook."
   ]
  }
 ],
 "metadata": {
  "jupytext": {
   "notebook_metadata_filter": "all,-language_info",
   "split_at_heading": true,
   "text_representation": {
    "extension": ".Rmd",
    "format_name": "rmarkdown",
    "format_version": "1.2",
    "jupytext_version": "1.10.3"
   }
  },
  "kernelspec": {
   "display_name": "Python 3",
   "language": "python",
   "name": "python3"
  },
  "language_info": {
   "codemirror_mode": {
    "name": "ipython",
    "version": 3
   },
   "file_extension": ".py",
   "mimetype": "text/x-python",
   "name": "python",
   "nbconvert_exporter": "python",
   "pygments_lexer": "ipython3",
   "version": "3.9.13"
  }
 },
 "nbformat": 4,
 "nbformat_minor": 5
}
